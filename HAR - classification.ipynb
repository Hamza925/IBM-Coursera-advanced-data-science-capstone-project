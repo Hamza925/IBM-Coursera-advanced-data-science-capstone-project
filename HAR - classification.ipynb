{
 "cells": [
  {
   "cell_type": "markdown",
   "metadata": {},
   "source": [
    "# Data Modelling with Sci-kit Learn classification algorithms....\n",
    "in this notebook we will work with various classification algorithms from the scikit-learn library.\n",
    "we will evaluate these algorithms and compare their performance in order to find the most accurate model."
   ]
  },
  {
   "cell_type": "code",
   "execution_count": 109,
   "metadata": {},
   "outputs": [],
   "source": [
    "import pandas as pd\n",
    "import numpy as np\n",
    "X_train = pd.read_csv('Datasets/UCI HAR Dataset/UCI HAR Dataset/train/X_train.txt', header=None, delim_whitespace=True)\n",
    "X_test = pd.read_csv('Datasets/UCI HAR Dataset/UCI HAR Dataset/test/X_test.txt', header=None, delim_whitespace=True)\n",
    "y_train = pd.read_csv('Datasets/UCI HAR Dataset/UCI HAR Dataset/train/y_train.txt', header=None, delim_whitespace=True)\n",
    "y_test = pd.read_csv('Datasets/UCI HAR Dataset/UCI HAR Dataset/test/y_test.txt', header=None, delim_whitespace=True)\n",
    "\n"
   ]
  },
  {
   "cell_type": "markdown",
   "metadata": {},
   "source": [
    "Import different classification algorithms from scikit-learn."
   ]
  },
  {
   "cell_type": "code",
   "execution_count": 2,
   "metadata": {},
   "outputs": [],
   "source": [
    "from sklearn.neighbors import KNeighborsClassifier\n",
    "from sklearn.tree import DecisionTreeClassifier\n",
    "from sklearn.svm import SVC\n",
    "from sklearn.naive_bayes import GaussianNB\n",
    "from sklearn.ensemble import BaggingClassifier\n",
    "from sklearn.ensemble import RandomForestClassifier\n",
    "from sklearn.ensemble import ExtraTreesClassifier\n",
    "from sklearn.ensemble import GradientBoostingClassifier"
   ]
  },
  {
   "cell_type": "code",
   "execution_count": 110,
   "metadata": {},
   "outputs": [],
   "source": [
    "X_train = np.array(X_train)\n",
    "y_train = np.array(y_train)\n",
    "X_test = np.array(X_test)\n",
    "y_test = np.array(y_test)\n",
    "y_train = y_train.flatten()\n",
    "y_test = y_test.flatten()"
   ]
  },
  {
   "cell_type": "code",
   "execution_count": 4,
   "metadata": {},
   "outputs": [],
   "source": [
    "model_knn = KNeighborsClassifier(n_neighbors=7)\n",
    "model_tree_classifier = DecisionTreeClassifier()\n",
    "model_svc = SVC()\n",
    "model_gaussian = GaussianNB()\n",
    "model_BG = BaggingClassifier(n_estimators=100)\n",
    "model_RnForest = RandomForestClassifier(n_estimators=1000)\n",
    "model_ETC = ExtraTreesClassifier(n_estimators=1000)\n",
    "model_GBC = GradientBoostingClassifier(n_estimators=1000)"
   ]
  },
  {
   "cell_type": "markdown",
   "metadata": {},
   "source": [
    "Now lets apply these models...."
   ]
  },
  {
   "cell_type": "code",
   "execution_count": 7,
   "metadata": {},
   "outputs": [
    {
     "data": {
      "text/plain": [
       "GradientBoostingClassifier(criterion='friedman_mse', init=None,\n",
       "              learning_rate=0.1, loss='deviance', max_depth=3,\n",
       "              max_features=None, max_leaf_nodes=None,\n",
       "              min_impurity_decrease=0.0, min_impurity_split=None,\n",
       "              min_samples_leaf=1, min_samples_split=2,\n",
       "              min_weight_fraction_leaf=0.0, n_estimators=1000,\n",
       "              n_iter_no_change=None, presort='auto', random_state=None,\n",
       "              subsample=1.0, tol=0.0001, validation_fraction=0.1,\n",
       "              verbose=0, warm_start=False)"
      ]
     },
     "execution_count": 7,
     "metadata": {},
     "output_type": "execute_result"
    }
   ],
   "source": [
    "model_knn.fit(X_train,y_train)\n",
    "model_tree_classifier.fit(X_train,y_train)\n",
    "model_svc.fit(X_train,y_train)\n",
    "model_gaussian.fit(X_train,y_train)\n",
    "model_BG.fit(X_train,y_train)\n",
    "model_RnForest.fit(X_train,y_train)\n",
    "model_ETC.fit(X_train,y_train)\n",
    "model_GBC.fit(X_train,y_train)"
   ]
  },
  {
   "cell_type": "code",
   "execution_count": 9,
   "metadata": {},
   "outputs": [
    {
     "name": "stdout",
     "output_type": "stream",
     "text": [
      "KNN = 0.9032914828639295\n",
      "tree classifier =  0.8615541228367831\n",
      "SVC =  0.9402782490668476\n",
      "Gaussian =  0.7702748557855447\n",
      "Bagging Classifier = 0.8975229046487954\n",
      "RandomForest = 0.9287410926365796\n",
      "Extra Trees Classifier = 0.9412962334577536\n",
      "Gradient Boosted trees = 0.9406175771971497\n"
     ]
    }
   ],
   "source": [
    "print('KNN =',model_knn.score(X_test,y_test))\n",
    "print('tree classifier = ',model_tree_classifier.score(X_test,y_test))\n",
    "print('SVC = ',model_svc.score(X_test,y_test))\n",
    "print('Gaussian = ',model_gaussian.score(X_test,y_test))\n",
    "print('Bagging Classifier =',model_BG.score(X_test,y_test))\n",
    "print('RandomForest =',model_RnForest.score(X_test,y_test))\n",
    "print('Extra Trees Classifier =',model_ETC.score(X_test,y_test))\n",
    "print('Gradient Boosted trees =',model_GBC.score(X_test,y_test))"
   ]
  },
  {
   "cell_type": "markdown",
   "metadata": {},
   "source": [
    "from the above algorithms we see that the best performing are SVC, Extra Tree Classifier and Gradient Boosted Trees. Now we will further work on our data set and try improving the accuracy to >95%."
   ]
  },
  {
   "cell_type": "markdown",
   "metadata": {},
   "source": [
    "Let us apply Scaling to the data and then Principal Component analaysis to improve the performance\n",
    "of our model and reduce overfitting because we have more than 500 features and redusing these features would help."
   ]
  },
  {
   "cell_type": "code",
   "execution_count": 72,
   "metadata": {},
   "outputs": [],
   "source": [
    "from sklearn.decomposition import PCA\n",
    "from sklearn.preprocessing import StandardScaler \n",
    "import matplotlib.pyplot as plt"
   ]
  },
  {
   "cell_type": "code",
   "execution_count": 111,
   "metadata": {},
   "outputs": [
    {
     "data": {
      "image/png": "[encoded data removed]",
      "text/plain": [
       "<Figure size 432x288 with 1 Axes>"
      ]
     },
     "metadata": {
      "needs_background": "light"
     },
     "output_type": "display_data"
    },
    {
     "data": {
      "text/plain": [
       "StandardScaler(copy=True, with_mean=True, with_std=True)"
      ]
     },
     "execution_count": 111,
     "metadata": {},
     "output_type": "execute_result"
    }
   ],
   "source": [
    "#pca = PCA().fit(X_train)\n",
    "scaler = StandardScaler().fit(X_train)\n",
    "plt.figure()\n",
    "plt.plot(np.cumsum(pca.explained_variance_ratio_))\n",
    "plt.xlabel('Number of Components')\n",
    "plt.ylabel('Variance (%)') #for each component\n",
    "plt.title('Activity Dataset Explained Variance')\n",
    "plt.show()\n",
    "scaler\n",
    "#X_train = scaler.transform(X_train)\n",
    "#X_train = pca.transform(X_train)\n",
    "#X_train.shape"
   ]
  },
  {
   "cell_type": "markdown",
   "metadata": {},
   "source": [
    "Using the plot we can visualize that we dont need so many features as only after 100 features the variance is greater than 95%. hence we would reduce the features to 220 using our pca() function"
   ]
  },
  {
   "cell_type": "code",
   "execution_count": 85,
   "metadata": {},
   "outputs": [],
   "source": [
    "pca = PCA(n_components = 250).fit(X_train)"
   ]
  },
  {
   "cell_type": "code",
   "execution_count": 112,
   "metadata": {},
   "outputs": [],
   "source": [
    "X_train = scaler.transform(X_train)\n",
    "X_test = scaler.transform(X_test)"
   ]
  },
  {
   "cell_type": "code",
   "execution_count": 115,
   "metadata": {},
   "outputs": [],
   "source": [
    "X_train = pca.transform(X_train)\n",
    "X_test = pca.transform(X_test)"
   ]
  },
  {
   "cell_type": "markdown",
   "metadata": {},
   "source": [
    "After applying scaling and PCA we again fit our SVC model to see the improvement...."
   ]
  },
  {
   "cell_type": "code",
   "execution_count": 116,
   "metadata": {},
   "outputs": [
    {
     "name": "stderr",
     "output_type": "stream",
     "text": [
      "c:\\users\\hamza-acer\\appdata\\local\\programs\\python\\python36\\lib\\site-packages\\sklearn\\svm\\base.py:196: FutureWarning: The default value of gamma will change from 'auto' to 'scale' in version 0.22 to account better for unscaled features. Set gamma explicitly to 'auto' or 'scale' to avoid this warning.\n",
      "  \"avoid this warning.\", FutureWarning)\n"
     ]
    },
    {
     "data": {
      "text/plain": [
       "SVC(C=1.0, cache_size=200, class_weight=None, coef0=0.0,\n",
       "  decision_function_shape='ovr', degree=3, gamma='auto_deprecated',\n",
       "  kernel='rbf', max_iter=-1, probability=False, random_state=None,\n",
       "  shrinking=True, tol=0.001, verbose=False)"
      ]
     },
     "execution_count": 116,
     "metadata": {},
     "output_type": "execute_result"
    }
   ],
   "source": [
    "model_svc.fit(X_train,y_train)"
   ]
  },
  {
   "cell_type": "code",
   "execution_count": 121,
   "metadata": {},
   "outputs": [],
   "source": [
    "y_pred = model_svc.predict(X_test)"
   ]
  },
  {
   "cell_type": "code",
   "execution_count": 117,
   "metadata": {},
   "outputs": [
    {
     "data": {
      "text/plain": [
       "0.9504580929759077"
      ]
     },
     "execution_count": 117,
     "metadata": {},
     "output_type": "execute_result"
    }
   ],
   "source": [
    "model_svc.score(X_test,y_test)"
   ]
  },
  {
   "cell_type": "code",
   "execution_count": 118,
   "metadata": {},
   "outputs": [],
   "source": [
    "from sklearn.metrics import confusion_matrix"
   ]
  },
  {
   "cell_type": "code",
   "execution_count": 122,
   "metadata": {},
   "outputs": [],
   "source": [
    "cm = confusion_matrix(y_test,y_pred)"
   ]
  },
  {
   "cell_type": "markdown",
   "metadata": {},
   "source": [
    "A confusion matrix helps us understand how different classes have been misclassified. its a 2-D array which provides TP, TN, FP, FN."
   ]
  },
  {
   "cell_type": "code",
   "execution_count": 126,
   "metadata": {},
   "outputs": [
    {
     "name": "stdout",
     "output_type": "stream",
     "text": [
      "[[473   1  22   0   0   0]\n",
      " [ 13 454   4   0   0   0]\n",
      " [  7  28 385   0   0   0]\n",
      " [  0   1   2 446  40   2]\n",
      " [  0   0   0  24 508   0]\n",
      " [  0   0   2   0   0 535]]\n"
     ]
    }
   ],
   "source": [
    "print(cm)"
   ]
  },
  {
   "cell_type": "code",
   "execution_count": 124,
   "metadata": {},
   "outputs": [],
   "source": [
    "from sklearn.metrics import classification_report"
   ]
  },
  {
   "cell_type": "code",
   "execution_count": 125,
   "metadata": {},
   "outputs": [
    {
     "name": "stdout",
     "output_type": "stream",
     "text": [
      "              precision    recall  f1-score   support\n",
      "\n",
      "           1     0.9594    0.9536    0.9565       496\n",
      "           2     0.9380    0.9639    0.9508       471\n",
      "           3     0.9277    0.9167    0.9222       420\n",
      "           4     0.9489    0.9084    0.9282       491\n",
      "           5     0.9270    0.9549    0.9407       532\n",
      "           6     0.9963    0.9963    0.9963       537\n",
      "\n",
      "   micro avg     0.9505    0.9505    0.9505      2947\n",
      "   macro avg     0.9496    0.9490    0.9491      2947\n",
      "weighted avg     0.9506    0.9505    0.9504      2947\n",
      "\n"
     ]
    }
   ],
   "source": [
    "print(classification_report(y_test, y_pred,digits=4))"
   ]
  },
  {
   "cell_type": "markdown",
   "metadata": {},
   "source": [
    "we have used F1-Score because it is more suitable to our problem, since we are dealing with multi-class data we need to keep track of both correctly classified and misclassified data."
   ]
  },
  {
   "cell_type": "code",
   "execution_count": null,
   "metadata": {},
   "outputs": [],
   "source": []
  }
 ],
 "metadata": {
  "kernelspec": {
   "display_name": "Python 3",
   "language": "python",
   "name": "python3"
  },
  "language_info": {
   "codemirror_mode": {
    "name": "ipython",
    "version": 3
   },
   "file_extension": ".py",
   "mimetype": "text/x-python",
   "name": "python",
   "nbconvert_exporter": "python",
   "pygments_lexer": "ipython3",
   "version": "3.6.3"
  }
 },
 "nbformat": 4,
 "nbformat_minor": 1
}
